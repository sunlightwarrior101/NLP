{
 "cells": [
  {
   "cell_type": "code",
   "execution_count": 1,
   "metadata": {},
   "outputs": [],
   "source": [
    "from flask import Flask, request, jsonify\n",
    "from transformers import pipeline\n",
    "app = Flask(__name__)\n",
    "\n",
    "# load pre trained sentiment analysis model from hugging face\n",
    "sentiment_analysis_model = pipeline('text-classification', model = 'LiYuan/amazon-review-sentiment-analysis')\n",
    "\n"
   ]
  },
  {
   "cell_type": "code",
   "execution_count": 9,
   "metadata": {},
   "outputs": [
    {
     "ename": "AssertionError",
     "evalue": "View function mapping is overwriting an existing endpoint function: new_sentiment_prediction",
     "output_type": "error",
     "traceback": [
      "\u001b[1;31m---------------------------------------------------------------------------\u001b[0m",
      "\u001b[1;31mAssertionError\u001b[0m                            Traceback (most recent call last)",
      "\u001b[1;32md:\\8. Coding\\9. Data Structures\\Deploment_Sentiment Analysis Transformer on Flask.ipynb Cell 2\u001b[0m line \u001b[0;36m<cell line: 5>\u001b[1;34m()\u001b[0m\n\u001b[0;32m      <a href='vscode-notebook-cell:/d%3A/8.%20Coding/9.%20Data%20Structures/Deploment_Sentiment%20Analysis%20Transformer%20on%20Flask.ipynb#W1sZmlsZQ%3D%3D?line=0'>1</a>\u001b[0m \u001b[39m# @app.route('/')\u001b[39;00m\n\u001b[0;32m      <a href='vscode-notebook-cell:/d%3A/8.%20Coding/9.%20Data%20Structures/Deploment_Sentiment%20Analysis%20Transformer%20on%20Flask.ipynb#W1sZmlsZQ%3D%3D?line=1'>2</a>\u001b[0m \u001b[39m# def app_to_run():\u001b[39;00m\n\u001b[0;32m      <a href='vscode-notebook-cell:/d%3A/8.%20Coding/9.%20Data%20Structures/Deploment_Sentiment%20Analysis%20Transformer%20on%20Flask.ipynb#W1sZmlsZQ%3D%3D?line=2'>3</a>\u001b[0m \n\u001b[0;32m      <a href='vscode-notebook-cell:/d%3A/8.%20Coding/9.%20Data%20Structures/Deploment_Sentiment%20Analysis%20Transformer%20on%20Flask.ipynb#W1sZmlsZQ%3D%3D?line=3'>4</a>\u001b[0m \u001b[39m#     return \u001b[39;00m\n\u001b[0;32m      <a href='vscode-notebook-cell:/d%3A/8.%20Coding/9.%20Data%20Structures/Deploment_Sentiment%20Analysis%20Transformer%20on%20Flask.ipynb#W1sZmlsZQ%3D%3D?line=4'>5</a>\u001b[0m \u001b[39m@app\u001b[39;49m\u001b[39m.\u001b[39;49mroute(\u001b[39m\"\u001b[39;49m\u001b[39m/new_sentiment_prediction\u001b[39;49m\u001b[39m\"\u001b[39;49m, methods\u001b[39m=\u001b[39;49m[\u001b[39m\"\u001b[39;49m\u001b[39mPOST\u001b[39;49m\u001b[39m\"\u001b[39;49m]) \u001b[39m# ask what does this do, decorator to exercute function sentiment prediction\u001b[39;49;00m\n\u001b[0;32m      <a href='vscode-notebook-cell:/d%3A/8.%20Coding/9.%20Data%20Structures/Deploment_Sentiment%20Analysis%20Transformer%20on%20Flask.ipynb#W1sZmlsZQ%3D%3D?line=5'>6</a>\u001b[0m \n\u001b[0;32m      <a href='vscode-notebook-cell:/d%3A/8.%20Coding/9.%20Data%20Structures/Deploment_Sentiment%20Analysis%20Transformer%20on%20Flask.ipynb#W1sZmlsZQ%3D%3D?line=6'>7</a>\u001b[0m \n\u001b[0;32m      <a href='vscode-notebook-cell:/d%3A/8.%20Coding/9.%20Data%20Structures/Deploment_Sentiment%20Analysis%20Transformer%20on%20Flask.ipynb#W1sZmlsZQ%3D%3D?line=7'>8</a>\u001b[0m \n\u001b[0;32m      <a href='vscode-notebook-cell:/d%3A/8.%20Coding/9.%20Data%20Structures/Deploment_Sentiment%20Analysis%20Transformer%20on%20Flask.ipynb#W1sZmlsZQ%3D%3D?line=8'>9</a>\u001b[0m \n\u001b[1;32m---> <a href='vscode-notebook-cell:/d%3A/8.%20Coding/9.%20Data%20Structures/Deploment_Sentiment%20Analysis%20Transformer%20on%20Flask.ipynb#W1sZmlsZQ%3D%3D?line=9'>10</a>\u001b[0m \u001b[39mdef\u001b[39;49;00m \u001b[39mnew_sentiment_prediction\u001b[39;49m():\n\u001b[0;32m     <a href='vscode-notebook-cell:/d%3A/8.%20Coding/9.%20Data%20Structures/Deploment_Sentiment%20Analysis%20Transformer%20on%20Flask.ipynb#W1sZmlsZQ%3D%3D?line=10'>11</a>\u001b[0m     app\u001b[39m.\u001b[39;49mlogger\u001b[39m.\u001b[39;49minfo(\u001b[39m\"\u001b[39;49m\u001b[39mReceived request to /new_sentiment_prediction\u001b[39;49m\u001b[39m\"\u001b[39;49m)\n\u001b[0;32m     <a href='vscode-notebook-cell:/d%3A/8.%20Coding/9.%20Data%20Structures/Deploment_Sentiment%20Analysis%20Transformer%20on%20Flask.ipynb#W1sZmlsZQ%3D%3D?line=11'>12</a>\u001b[0m     data \u001b[39m=\u001b[39;49m request\u001b[39m.\u001b[39;49mjson\n",
      "File \u001b[1;32mc:\\Users\\bisco\\anaconda3\\lib\\site-packages\\flask\\scaffold.py:435\u001b[0m, in \u001b[0;36mScaffold.route.<locals>.decorator\u001b[1;34m(f)\u001b[0m\n\u001b[0;32m    433\u001b[0m \u001b[39mdef\u001b[39;00m \u001b[39mdecorator\u001b[39m(f: T_route) \u001b[39m-\u001b[39m\u001b[39m>\u001b[39m T_route:\n\u001b[0;32m    434\u001b[0m     endpoint \u001b[39m=\u001b[39m options\u001b[39m.\u001b[39mpop(\u001b[39m\"\u001b[39m\u001b[39mendpoint\u001b[39m\u001b[39m\"\u001b[39m, \u001b[39mNone\u001b[39;00m)\n\u001b[1;32m--> 435\u001b[0m     \u001b[39mself\u001b[39m\u001b[39m.\u001b[39madd_url_rule(rule, endpoint, f, \u001b[39m*\u001b[39m\u001b[39m*\u001b[39moptions)\n\u001b[0;32m    436\u001b[0m     \u001b[39mreturn\u001b[39;00m f\n",
      "File \u001b[1;32mc:\\Users\\bisco\\anaconda3\\lib\\site-packages\\flask\\scaffold.py:50\u001b[0m, in \u001b[0;36msetupmethod.<locals>.wrapper_func\u001b[1;34m(self, *args, **kwargs)\u001b[0m\n\u001b[0;32m     48\u001b[0m \u001b[39mdef\u001b[39;00m \u001b[39mwrapper_func\u001b[39m(\u001b[39mself\u001b[39m, \u001b[39m*\u001b[39margs: t\u001b[39m.\u001b[39mAny, \u001b[39m*\u001b[39m\u001b[39m*\u001b[39mkwargs: t\u001b[39m.\u001b[39mAny) \u001b[39m-\u001b[39m\u001b[39m>\u001b[39m t\u001b[39m.\u001b[39mAny:\n\u001b[0;32m     49\u001b[0m     \u001b[39mself\u001b[39m\u001b[39m.\u001b[39m_check_setup_finished(f_name)\n\u001b[1;32m---> 50\u001b[0m     \u001b[39mreturn\u001b[39;00m f(\u001b[39mself\u001b[39m, \u001b[39m*\u001b[39margs, \u001b[39m*\u001b[39m\u001b[39m*\u001b[39mkwargs)\n",
      "File \u001b[1;32mc:\\Users\\bisco\\anaconda3\\lib\\site-packages\\flask\\app.py:1059\u001b[0m, in \u001b[0;36mFlask.add_url_rule\u001b[1;34m(self, rule, endpoint, view_func, provide_automatic_options, **options)\u001b[0m\n\u001b[0;32m   1057\u001b[0m old_func \u001b[39m=\u001b[39m \u001b[39mself\u001b[39m\u001b[39m.\u001b[39mview_functions\u001b[39m.\u001b[39mget(endpoint)\n\u001b[0;32m   1058\u001b[0m \u001b[39mif\u001b[39;00m old_func \u001b[39mis\u001b[39;00m \u001b[39mnot\u001b[39;00m \u001b[39mNone\u001b[39;00m \u001b[39mand\u001b[39;00m old_func \u001b[39m!=\u001b[39m view_func:\n\u001b[1;32m-> 1059\u001b[0m     \u001b[39mraise\u001b[39;00m \u001b[39mAssertionError\u001b[39;00m(\n\u001b[0;32m   1060\u001b[0m         \u001b[39m\"\u001b[39m\u001b[39mView function mapping is overwriting an existing\u001b[39m\u001b[39m\"\u001b[39m\n\u001b[0;32m   1061\u001b[0m         \u001b[39mf\u001b[39m\u001b[39m\"\u001b[39m\u001b[39m endpoint function: \u001b[39m\u001b[39m{\u001b[39;00mendpoint\u001b[39m}\u001b[39;00m\u001b[39m\"\u001b[39m\n\u001b[0;32m   1062\u001b[0m     )\n\u001b[0;32m   1063\u001b[0m \u001b[39mself\u001b[39m\u001b[39m.\u001b[39mview_functions[endpoint] \u001b[39m=\u001b[39m view_func\n",
      "\u001b[1;31mAssertionError\u001b[0m: View function mapping is overwriting an existing endpoint function: new_sentiment_prediction"
     ]
    }
   ],
   "source": [
    "\n",
    "# @app.route('/')\n",
    "# def app_to_run():\n",
    "\n",
    "#     return \n",
    "@app.route(\"/new_sentiment_prediction\", methods=[\"POST\"]) # ask what does this do, decorator to exercute function sentiment prediction\n",
    "\n",
    "\n",
    "\n",
    "\n",
    "def new_sentiment_prediction():\n",
    "    app.logger.info(\"Received request to /new_sentiment_prediction\")\n",
    "    data = request.json\n",
    "    text = data['text']\n",
    "\n",
    "    # perform sentiment analysis\n",
    "    results = sentiment_analysis_model(text)\n",
    "\n",
    "    # extract sentiment label and score\n",
    "    sentiment_label = results[0]['label']\n",
    "    sentiment_score = results[0]['score']\n",
    "\n",
    "    return jsonify({'sentiment': sentiment_label, 'score': sentiment_score})\n",
    "    \n",
    "if __name__ == '__main__':\n",
    "    app.run(debug = False)\n",
    "   \n",
    "    "
   ]
  },
  {
   "cell_type": "code",
   "execution_count": null,
   "metadata": {},
   "outputs": [],
   "source": []
  }
 ],
 "metadata": {
  "kernelspec": {
   "display_name": "base",
   "language": "python",
   "name": "python3"
  },
  "language_info": {
   "codemirror_mode": {
    "name": "ipython",
    "version": 3
   },
   "file_extension": ".py",
   "mimetype": "text/x-python",
   "name": "python",
   "nbconvert_exporter": "python",
   "pygments_lexer": "ipython3",
   "version": "3.9.12"
  },
  "orig_nbformat": 4
 },
 "nbformat": 4,
 "nbformat_minor": 2
}
